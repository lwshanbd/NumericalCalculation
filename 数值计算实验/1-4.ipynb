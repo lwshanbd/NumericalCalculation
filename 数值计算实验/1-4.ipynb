{
 "cells": [
  {
   "cell_type": "markdown",
   "metadata": {},
   "source": [
    "### 二分法"
   ]
  },
  {
   "cell_type": "code",
   "execution_count": 1,
   "metadata": {
    "scrolled": true
   },
   "outputs": [
    {
     "name": "stdout",
     "output_type": "stream",
     "text": [
      "解为0.25927734375\n"
     ]
    }
   ],
   "source": [
    "import math\n",
    "x_min=0\n",
    "x_max=1\n",
    "\n",
    "\n",
    "for i in range(1,100):\n",
    "    mid=(x_min+x_max)/2\n",
    "    if 5*mid-math.exp(mid)>0.001:\n",
    "        #print(\"第\"+str(i)+\"次结果为：\"+str(5*mid-math.exp(mid)))\n",
    "        \n",
    "        x_max=mid\n",
    "    elif 5*mid-math.exp(mid)<-0.001:\n",
    "        #print(\"第\"+str(i)+\"次结为：\"+str(5*mid-math.exp(mid)))\n",
    "        x_min=mid\n",
    "    x=mid\n",
    "print(\"解为\"+str(mid))"
   ]
  },
  {
   "cell_type": "code",
   "execution_count": null,
   "metadata": {},
   "outputs": [],
   "source": []
  },
  {
   "cell_type": "markdown",
   "metadata": {},
   "source": [
    "### 牛顿法 \n",
    "#### 原函数图像"
   ]
  },
  {
   "cell_type": "code",
   "execution_count": 3,
   "metadata": {},
   "outputs": [
    {
     "data": {
      "image/png": "[encoded data removed]",
      "text/plain": [
       "<Figure size 432x288 with 1 Axes>"
      ]
     },
     "metadata": {
      "needs_background": "light"
     },
     "output_type": "display_data"
    }
   ],
   "source": [
    "import numpy as np\n",
    "import matplotlib.pyplot as plt\n",
    " \n",
    "x = np.linspace(0,0.5)\n",
    "y1 = 5*x-np.exp(x)\n",
    "y2=0*x\n",
    "plt.plot(x, y1)\n",
    "plt.plot(x, y2, color='green')\n",
    " \n",
    "plt.title('f(x) with x')\n",
    "plt.xlabel('x')\n",
    "plt.ylabel('f(x)')\n",
    " \n",
    "plt.show()"
   ]
  },
  {
   "cell_type": "markdown",
   "metadata": {},
   "source": [
    "#### 求值"
   ]
  },
  {
   "cell_type": "code",
   "execution_count": 4,
   "metadata": {},
   "outputs": [
    {
     "name": "stdout",
     "output_type": "stream",
     "text": [
      "0.2591711018190737\n"
     ]
    }
   ],
   "source": [
    "import math\n",
    "def fx(x):\n",
    "    return 5*x-np.exp(x)\n",
    "def f_x(x):\n",
    "    return 5-np.exp(x)\n",
    "\n",
    "\n",
    "x_0=1\n",
    "x=[x_0]\n",
    "times=[0]\n",
    "xn=x_0\n",
    "for i in range(1,80):\n",
    "    a=xn-fx(xn)/f_x(xn)\n",
    "    xn=a\n",
    "    x.append(xn)\n",
    "    times.append(i)\n",
    "print(x[-1])"
   ]
  },
  {
   "cell_type": "markdown",
   "metadata": {},
   "source": [
    "### 图像绘制"
   ]
  },
  {
   "cell_type": "code",
   "execution_count": 5,
   "metadata": {},
   "outputs": [
    {
     "data": {
      "image/png": "[encoded data removed]",
      "text/plain": [
       "<Figure size 432x288 with 1 Axes>"
      ]
     },
     "metadata": {
      "needs_background": "light"
     },
     "output_type": "display_data"
    }
   ],
   "source": [
    "plt.plot(times, x)\n",
    "plt.show()"
   ]
  },
  {
   "cell_type": "markdown",
   "metadata": {},
   "source": [
    "#### 割线法"
   ]
  },
  {
   "cell_type": "code",
   "execution_count": 6,
   "metadata": {},
   "outputs": [
    {
     "name": "stdout",
     "output_type": "stream",
     "text": [
      "解为0.2591712288816814\n"
     ]
    }
   ],
   "source": [
    "i=2\n",
    "p0=0\n",
    "p1=1\n",
    "q0=fx(p0)\n",
    "q1=fx(p1)\n",
    "m=[]\n",
    "while i<=100:\n",
    "    p=p1-q1*(p1-p0)/(q1-q0)\n",
    "    if abs(p-p1)<1e-4:\n",
    "        print(\"解为\"+str(p))\n",
    "        break\n",
    "    i=i+1\n",
    "    p0=p1\n",
    "    q0=q1\n",
    "    p1=p\n",
    "    q1=fx(p)\n",
    "    m.append(x)\n",
    "#print(m)"
   ]
  },
  {
   "cell_type": "markdown",
   "metadata": {},
   "source": [
    "### 试位法"
   ]
  },
  {
   "cell_type": "code",
   "execution_count": 9,
   "metadata": {},
   "outputs": [
    {
     "name": "stdout",
     "output_type": "stream",
     "text": [
      "0.2591697655303041\n"
     ]
    }
   ],
   "source": [
    "i=2\n",
    "p0=0\n",
    "p1=0.1\n",
    "q0=fx(p0)\n",
    "q1=fx(p1)\n",
    "for i in range(1,100):\n",
    "    p=p1-q1*(p1-p0)*(q1-q0)\n",
    "    if abs(p-p1)<1e-4:\n",
    "        print(p)\n",
    "        break\n",
    "    i=i+1\n",
    "    q=fx(p)\n",
    "    if q*q1<0:\n",
    "        p0=p1\n",
    "        q0=q1\n",
    "    p1=p\n",
    "    q1=q"
   ]
  },
  {
   "cell_type": "code",
   "execution_count": null,
   "metadata": {},
   "outputs": [],
   "source": []
  }
 ],
 "metadata": {
  "kernelspec": {
   "display_name": "Python 3",
   "language": "python",
   "name": "python3"
  },
  "language_info": {
   "codemirror_mode": {
    "name": "ipython",
    "version": 3
   },
   "file_extension": ".py",
   "mimetype": "text/x-python",
   "name": "python",
   "nbconvert_exporter": "python",
   "pygments_lexer": "ipython3",
   "version": "3.7.3"
  },
  "toc": {
   "base_numbering": 1,
   "nav_menu": {},
   "number_sections": true,
   "sideBar": true,
   "skip_h1_title": false,
   "title_cell": "Table of Contents",
   "title_sidebar": "Contents",
   "toc_cell": false,
   "toc_position": {},
   "toc_section_display": true,
   "toc_window_display": false
  }
 },
 "nbformat": 4,
 "nbformat_minor": 2
}
