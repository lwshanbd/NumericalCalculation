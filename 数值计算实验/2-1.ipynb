{
 "cells": [
  {
   "cell_type": "code",
   "execution_count": 3,
   "metadata": {},
   "outputs": [
    {
     "name": "stdout",
     "output_type": "stream",
     "text": [
      "[[16, 4, 8], [0.25, 4.0, -6.0], [0.5, -1.5, 9.0]]\n",
      "The result of the fomula is:[-2.25  4.    2.  ]\n"
     ]
    }
   ],
   "source": [
    "# coding:utf8\n",
    "import numpy as np\n",
    "\n",
    "def lu(mat):\n",
    "    r,c=np.shape(mat)\n",
    "    s=min(r,c)\n",
    "    for k in range(s):\n",
    "        x=1.0/mat[k][k]  # 将后续除法变成乘法\n",
    "        for i in range(k+1,r):\n",
    "            mat[i][k]=mat[i][k]*x  # L[1:][0]*U[0][0]=A[1:][0]；A[0][:]=mat[0][:]\n",
    "        for i in range(k+1,r):\n",
    "            for j in range(k+1,c):\n",
    "                # U[1][2]*L[1][1]=A[1][2]-U[0][2]*L[1][0]；L[1][1]=1\n",
    "                # L[2][1]*U[1][1]=A[2][1]-U[0][1]*L[2][0]；下一个k时mat[i][j]/mat[k][k](i>j)\n",
    "                mat[i][j]=mat[i][j]-mat[k][j]*mat[i][k]\n",
    "    return mat,c\n",
    "\n",
    "def solve(A,b):\n",
    "    mat,n=lu(A)  # LU合并\n",
    "    print (mat ) # [[ ]\n",
    "    Z= np.zeros(n)  # L*Z=b U*X=Z\n",
    "    X= np.zeros(n)\n",
    "    Z[0]=b[0]\n",
    "    for i in range(1,n):\n",
    "        sumup=0\n",
    "        for tmp in range(0,i):\n",
    "            sumup+=mat[i][tmp]*Z[tmp]\n",
    "        Z[i]=(b[i]-sumup)\n",
    "    X[n-1]=Z[n-1]/mat[n-1][n-1]\n",
    "    for i in range(n-2,-1,-1):\n",
    "        sumup=0\n",
    "        for tmp in range(i+1,n):\n",
    "            sumup+=mat[i][tmp]*X[tmp]\n",
    "        X[i]=(Z[i]-sumup)/mat[i][i]\n",
    "    return X\n",
    "\n",
    "A=[[16,4,8],[4,5,-4],[8,-4,22]]\n",
    "y=[-4,3,10]\n",
    "print(\"The result of the fomula is:\"+str(solve(A,y)) ) # [-2.25  4.    2.  ]"
   ]
  },
  {
   "cell_type": "code",
   "execution_count": null,
   "metadata": {},
   "outputs": [],
   "source": []
  }
 ],
 "metadata": {
  "kernelspec": {
   "display_name": "Python 3",
   "language": "python",
   "name": "python3"
  },
  "language_info": {
   "codemirror_mode": {
    "name": "ipython",
    "version": 3
   },
   "file_extension": ".py",
   "mimetype": "text/x-python",
   "name": "python",
   "nbconvert_exporter": "python",
   "pygments_lexer": "ipython3",
   "version": "3.7.3"
  },
  "toc": {
   "base_numbering": 1,
   "nav_menu": {},
   "number_sections": true,
   "sideBar": true,
   "skip_h1_title": false,
   "title_cell": "Table of Contents",
   "title_sidebar": "Contents",
   "toc_cell": false,
   "toc_position": {},
   "toc_section_display": true,
   "toc_window_display": false
  }
 },
 "nbformat": 4,
 "nbformat_minor": 2
}
