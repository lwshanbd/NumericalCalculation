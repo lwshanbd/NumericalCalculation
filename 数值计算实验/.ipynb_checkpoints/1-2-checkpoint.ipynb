{
 "cells": [
  {
   "cell_type": "code",
   "execution_count": 1,
   "metadata": {},
   "outputs": [
    {
     "name": "stdout",
     "output_type": "stream",
     "text": [
      "第1次结果为：0.020574461395796995\n",
      "第2次结果为：-0.9316387600233341\n",
      "第3次结果为：-0.4600972729404622\n",
      "第4次结果为：-0.22080267353602012\n",
      "第5次结果为：-0.1003614548142574\n",
      "第6次结果为：-0.03995368575392305\n",
      "第7次结果为：-0.00970445179327556\n",
      "第8次结果为：0.005431320953336871\n",
      "第9次结果为：-0.0021374896433172252\n",
      "第10次结果为：0.0016466850065690042\n",
      "第11次结果为：-0.0002454600314260591,二分法结束\n",
      "解为0.50537109375\n"
     ]
    }
   ],
   "source": [
    "import math\n",
    "x_min=0\n",
    "x_max=1\n",
    "\n",
    "\n",
    "for i in range(1,100):\n",
    "    mid=(x_min+x_max)/2\n",
    "    if 2-3*mid-math.sin(mid)>0.0005:\n",
    "        print(\"第\"+str(i)+\"次结果为：\"+str(2-3*mid-math.sin(mid)))\n",
    "        x_min=mid\n",
    "    elif 2-3*mid-math.sin(mid)<-0.0005:\n",
    "        print(\"第\"+str(i)+\"次结果为：\"+str(2-3*mid-math.sin(mid)))\n",
    "        x_max=mid\n",
    "    else:\n",
    "        #print(i)\n",
    "        print(\"第\"+str(i)+\"次结果为：\"+str(2-3*mid-math.sin(mid))+\",二分法结束\")\n",
    "        break\n",
    "print(\"解为\"+str(mid))"
   ]
  },
  {
   "cell_type": "code",
   "execution_count": null,
   "metadata": {},
   "outputs": [],
   "source": []
  }
 ],
 "metadata": {
  "kernelspec": {
   "display_name": "Python 3",
   "language": "python",
   "name": "python3"
  },
  "language_info": {
   "codemirror_mode": {
    "name": "ipython",
    "version": 3
   },
   "file_extension": ".py",
   "mimetype": "text/x-python",
   "name": "python",
   "nbconvert_exporter": "python",
   "pygments_lexer": "ipython3",
   "version": "3.7.0"
  }
 },
 "nbformat": 4,
 "nbformat_minor": 2
}
