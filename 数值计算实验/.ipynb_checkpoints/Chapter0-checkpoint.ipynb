{
 "cells": [
  {
   "cell_type": "markdown",
   "metadata": {},
   "source": [
    "# 鸣谢\n",
    "特别鸣谢一学期以来刘保东老师的辛勤付出与[崔晨学长](cuichen.cc)在Python方面的指导。"
   ]
  },
  {
   "cell_type": "markdown",
   "metadata": {},
   "source": [
    "# 综述\n",
    "\n",
    "随着计算机和计算方法的飞速发展，几乎所有学科都走向定量化和精确化，从而产生了一系列计算性的学科分支，如计算物理、计算化学、计算生物学、 计算地质学、计算气象学和计算材料学等， 计算数学中的数值计算方法则是解决“计算”问题的桥梁和工具。我们知道，计算能力是计算工具和计算方法的效率的乘积， 提高计算方法的效率与提高计算机硬件的效率同样重要。 科学计算已用到科学技术和社会生活的各个领域中。\n",
    "\n",
    "数值计算方法，是一种研究并解决数学问题的数值近似解方法， 是在计算机上使用的解数学问题的方法，简称计算方法。\n",
    " \n",
    "在科学研究和工程技术中都要用到各种计算方法。 例如，在航天航空、地质勘探、汽车制造、桥梁设计、 天气预报和汉字字样设计中都有计算方法的踪影。\n",
    "\n",
    "计算方法既有数学类课程中理论上的抽象性和严谨性，又有实用性和实验性的技术特征， 计算方法是一门理论性和实践性都很强的学科。 在70年代，大多数学校仅在数学系的计算数学专业和计算机系开设计算方法这门课程。 随着计算机技术的迅速发展和普及， 现在计算方法课程几乎已成为所有理工科学生的必修课程。\n",
    "\n",
    "计算方法的计算对象是微积分，线性代数，常微分方程中的数学问题。 内容包括：插值和拟合、数值微分和数值积分、求解线性方程组的直接法和迭代法、 计算矩阵特征值和特征向量和常微分方程数值解等问题。"
   ]
  },
  {
   "cell_type": "markdown",
   "metadata": {},
   "source": [
    "# 本实验报告的一些说明\n",
    "\n",
    "本实验使用了Python的Jupyter-Notebook编写，采用Donald Knuth提出的**文学编程**（*literature programming*）的编程方法，将Python语言与Markdown语言有机结合，整个实验报告既可阅读又可被计算机执行。同时，本ipynb文件将以同名py文件保存在实验文件夹里。\n",
    "\n",
    "对于实验中可能使用到的一些必要的Python库，在下方进行了说明，同时，本代码很好的利用了IPython一些特性，对于公式、结果作了良好的展示。"
   ]
  },
  {
   "cell_type": "markdown",
   "metadata": {},
   "source": [
    "包含的库包括但不限于以下几个库：\n",
    "\n",
    "* numpy\n",
    "* sympy\n",
    "* pandas\n",
    "* scipy\n",
    "* matplotlib.pyplot\n",
    "* scipy.integrate\n",
    "* leastsq\n",
    "* IPython.display"
   ]
  }
 ],
 "metadata": {
  "kernelspec": {
   "display_name": "Python 3",
   "language": "python",
   "name": "python3"
  },
  "language_info": {
   "codemirror_mode": {
    "name": "ipython",
    "version": 3
   },
   "file_extension": ".py",
   "mimetype": "text/x-python",
   "name": "python",
   "nbconvert_exporter": "python",
   "pygments_lexer": "ipython3",
   "version": "3.7.3"
  },
  "toc": {
   "base_numbering": 1,
   "nav_menu": {},
   "number_sections": true,
   "sideBar": true,
   "skip_h1_title": false,
   "title_cell": "Table of Contents",
   "title_sidebar": "Contents",
   "toc_cell": false,
   "toc_position": {},
   "toc_section_display": true,
   "toc_window_display": false
  }
 },
 "nbformat": 4,
 "nbformat_minor": 2
}
