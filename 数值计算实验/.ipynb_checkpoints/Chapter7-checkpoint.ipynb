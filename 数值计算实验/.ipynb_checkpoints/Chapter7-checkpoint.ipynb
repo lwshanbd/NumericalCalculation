{
 "cells": [
  {
   "cell_type": "markdown",
   "metadata": {},
   "source": [
    "已观测数据\n",
    "\\begin{table}[]\n",
    "\\begin{tabular}{llllll}\n",
    "x    & -2 & -1 & 0 & 1 & 2 \\\\\n",
    "f(x) & 0  & 1  & 2 & 1 & 1\n",
    "\\end{tabular}\n",
    "\\end{table}\n",
    "求一个二次多项式拟合这组数据，试写出其最小二乘拟合模型，并给出其正则方程组及其解"
   ]
  },
  {
   "cell_type": "code",
   "execution_count": null,
   "metadata": {},
   "outputs": [],
   "source": []
  }
 ],
 "metadata": {
  "kernelspec": {
   "display_name": "Python 3",
   "language": "python",
   "name": "python3"
  },
  "language_info": {
   "codemirror_mode": {
    "name": "ipython",
    "version": 3
   },
   "file_extension": ".py",
   "mimetype": "text/x-python",
   "name": "python",
   "nbconvert_exporter": "python",
   "pygments_lexer": "ipython3",
   "version": "3.7.3"
  },
  "toc": {
   "base_numbering": 1,
   "nav_menu": {},
   "number_sections": true,
   "sideBar": true,
   "skip_h1_title": false,
   "title_cell": "Table of Contents",
   "title_sidebar": "Contents",
   "toc_cell": false,
   "toc_position": {},
   "toc_section_display": true,
   "toc_window_display": false
  }
 },
 "nbformat": 4,
 "nbformat_minor": 2
}
