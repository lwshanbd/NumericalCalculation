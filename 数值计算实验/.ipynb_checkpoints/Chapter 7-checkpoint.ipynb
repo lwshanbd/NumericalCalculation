{
 "cells": [
  {
   "cell_type": "markdown",
   "metadata": {},
   "source": [
    "已知矩阵\n",
    "$$A= \\left\\{\n",
    " \\begin{matrix}\n",
    "   4 & -1 & 1 \\\\\n",
    "   -1 & 3 & -2 \\\\\n",
    "   1 & -2 & 3\n",
    "  \\end{matrix}\n",
    "  \\right\\} \\tag{2}$$\n",
    "是一个对称矩阵，其特征值为$\\lambda_1=6,\\lambda_2=3,\\lambda_3=1$\n",
    "\n",
    "分别利用幂法、对称幂法、反幂法求其最大特征值和特征向量。\n",
    "\n",
    "注意：可取初始向量$x^{(0)}={(1\\quad1\\quad 1)}^T$"
   ]
  },
  {
   "cell_type": "markdown",
   "metadata": {},
   "source": [
    "验证实验：写出PPT中关于Household变换示例中的$H_1,H_2,H_3$,并验证示例结果。"
   ]
  },
  {
   "cell_type": "code",
   "execution_count": null,
   "metadata": {},
   "outputs": [],
   "source": []
  }
 ],
 "metadata": {
  "kernelspec": {
   "display_name": "Python 3",
   "language": "python",
   "name": "python3"
  },
  "language_info": {
   "codemirror_mode": {
    "name": "ipython",
    "version": 3
   },
   "file_extension": ".py",
   "mimetype": "text/x-python",
   "name": "python",
   "nbconvert_exporter": "python",
   "pygments_lexer": "ipython3",
   "version": "3.7.3"
  },
  "toc": {
   "base_numbering": 1,
   "nav_menu": {},
   "number_sections": true,
   "sideBar": true,
   "skip_h1_title": false,
   "title_cell": "Table of Contents",
   "title_sidebar": "Contents",
   "toc_cell": false,
   "toc_position": {},
   "toc_section_display": true,
   "toc_window_display": false
  }
 },
 "nbformat": 4,
 "nbformat_minor": 2
}
