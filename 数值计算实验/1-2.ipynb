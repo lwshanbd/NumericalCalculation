{
 "cells": [
  {
   "cell_type": "code",
   "execution_count": 6,
   "metadata": {},
   "outputs": [
    {
     "name": "stdout",
     "output_type": "stream",
     "text": [
      "0.020574461395796995\n",
      "-0.9316387600233341\n",
      "-0.4600972729404622\n",
      "-0.22080267353602012\n",
      "-0.1003614548142574\n",
      "-0.03995368575392305\n",
      "-0.00970445179327556\n",
      "0.005431320953336871\n",
      "-0.0021374896433172252\n",
      "0.0016466850065690042\n",
      "-0.0002454600314260591,二分法结束\n",
      "解为0.50537109375\n"
     ]
    }
   ],
   "source": [
    "import math\n",
    "x_min=0\n",
    "x_max=1\n",
    "\n",
    "\n",
    "for i in range(1,100):\n",
    "    mid=(x_min+x_max)/2\n",
    "    #print(str(mid)+' ')\n",
    "    if 2-3*mid-math.sin(mid)>0.0005:\n",
    "        print(str(2-3*mid-math.sin(mid)))\n",
    "        x_min=mid\n",
    "    elif 2-3*mid-math.sin(mid)<-0.0005:\n",
    "        print(str(2-3*mid-math.sin(mid)))\n",
    "        x_max=mid\n",
    "    else:\n",
    "        #print(i)\n",
    "        print(str(2-3*mid-math.sin(mid))+\",二分法结束\")\n",
    "        break\n",
    "print(\"解为\"+str(mid))"
   ]
  },
  {
   "cell_type": "code",
   "execution_count": null,
   "metadata": {},
   "outputs": [],
   "source": [
    "def bisection(f, a, b, max_iter, ax=None, px=None):\n",
    "    if ax is not None:\n",
    "        ax.axhline(y=0, color='red', linestyle='-', linewidth=1)\n",
    "        ax.axvline(x=a, linestyle='--', c='green', linewidth=1)\n",
    "        ax.axvline(x=b, linestyle='--', c='green', linewidth=1)\n",
    "        ax.plot(px, f(px), linewidth=2)\n",
    "    if f(a) * f(b) >= 0:\n",
    "        print(\"二分法失败.\")\n",
    "        return None\n",
    "    for _ in range(max_iter):\n",
    "        c = (a + b) / 2\n",
    "        if ax is not None:\n",
    "            ax.axvline(x=c, linestyle='--', c='green', linewidth=1)\n",
    "        fc = f(c)\n",
    "        if f(a) * fc < 0:\n",
    "            b = c\n",
    "        elif f(b) * fc < 0:\n",
    "            a = c\n",
    "        elif fc == 0:\n",
    "            print(\"找到准确的解.\")\n",
    "            return c\n",
    "        else:\n",
    "            print(\"二分法失败.\")\n",
    "            return None\n",
    "    if ax is not None:\n",
    "        ax.scatter((a + b) / 2, 0, c='red')\n",
    "    return (a + b) / 2"
   ]
  }
 ],
 "metadata": {
  "kernelspec": {
   "display_name": "Python 3",
   "language": "python",
   "name": "python3"
  },
  "language_info": {
   "codemirror_mode": {
    "name": "ipython",
    "version": 3
   },
   "file_extension": ".py",
   "mimetype": "text/x-python",
   "name": "python",
   "nbconvert_exporter": "python",
   "pygments_lexer": "ipython3",
   "version": "3.7.3"
  },
  "toc": {
   "base_numbering": 1,
   "nav_menu": {},
   "number_sections": true,
   "sideBar": true,
   "skip_h1_title": false,
   "title_cell": "Table of Contents",
   "title_sidebar": "Contents",
   "toc_cell": false,
   "toc_position": {},
   "toc_section_display": true,
   "toc_window_display": false
  }
 },
 "nbformat": 4,
 "nbformat_minor": 2
}
