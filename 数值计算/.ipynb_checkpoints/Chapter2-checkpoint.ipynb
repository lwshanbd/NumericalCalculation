{
 "cells": [
  {
   "cell_type": "markdown",
   "metadata": {},
   "source": [
    "# Chapter 2"
   ]
  },
  {
   "cell_type": "markdown",
   "metadata": {},
   "source": [
    "## Problem1"
   ]
  },
  {
   "cell_type": "code",
   "execution_count": 1,
   "metadata": {},
   "outputs": [],
   "source": [
    "import math\n",
    "import sympy as sp\n",
    "sp.init_printing()"
   ]
  },
  {
   "cell_type": "code",
   "execution_count": 2,
   "metadata": {},
   "outputs": [],
   "source": [
    "def newton(f, df, x0, eps, max_iter):\n",
    "    x = x0\n",
    "    for n in range(max_iter):\n",
    "        fx = f(x)\n",
    "        if abs(fx) < eps:\n",
    "            print('Found solution after', n, 'iterations.')\n",
    "            return x\n",
    "        dfx = df(x)\n",
    "        if dfx == 0:\n",
    "            print('Zero derivative. No solution found.')\n",
    "            return None\n",
    "        x = x - fx / dfx\n",
    "    print('Exceeded maximum iterations. No solution found.')\n",
    "    return None"
   ]
  },
  {
   "cell_type": "code",
   "execution_count": null,
   "metadata": {},
   "outputs": [],
   "source": [
    "x = sp.Symbol('x')\n",
    "f = sp.Rational(1, 2) + sp.Rational(1, 4) * x * x - x * sp.sin(x) - sp.Rational(1, 2) * sp.cos(2 * x)\n",
    "print(f)"
   ]
  },
  {
   "cell_type": "code",
   "execution_count": null,
   "metadata": {},
   "outputs": [],
   "source": [
    "df = sympy.diff(f)\n",
    "df"
   ]
  },
  {
   "cell_type": "code",
   "execution_count": 26,
   "metadata": {},
   "outputs": [],
   "source": [
    "f_eval = sympy.lambdify(x, f)\n",
    "df_eval = sympy.lambdify(x, df)"
   ]
  },
  {
   "cell_type": "code",
   "execution_count": 63,
   "metadata": {},
   "outputs": [
    {
     "name": "stdout",
     "output_type": "stream",
     "text": [
      "Found solution after 6 iterations.\n"
     ]
    },
    {
     "data": {
      "image/png": "[encoded data removed]",
      "text/latex": [
       "$$1.892489624534236$$"
      ],
      "text/plain": [
       "1.892489624534236"
      ]
     },
     "execution_count": 63,
     "metadata": {},
     "output_type": "execute_result"
    }
   ],
   "source": [
    "newton(f_eval, df_eval, math.pi / 2, 1e-5, 100)"
   ]
  },
  {
   "cell_type": "code",
   "execution_count": 64,
   "metadata": {},
   "outputs": [
    {
     "name": "stdout",
     "output_type": "stream",
     "text": [
      "Found solution after 10 iterations.\n"
     ]
    },
    {
     "data": {
      "image/png": "[encoded data removed]",
      "text/latex": [
       "$$1.8927898018266327$$"
      ],
      "text/plain": [
       "1.8927898018266327"
      ]
     },
     "execution_count": 64,
     "metadata": {},
     "output_type": "execute_result"
    }
   ],
   "source": [
    "newton(f_eval, df_eval, 5 * math.pi, 1e-5, 100)"
   ]
  },
  {
   "cell_type": "code",
   "execution_count": 65,
   "metadata": {},
   "outputs": [
    {
     "name": "stdout",
     "output_type": "stream",
     "text": [
      "Exceeded maximum iterations. No solution found.\n"
     ]
    }
   ],
   "source": [
    "newton(f_eval, df_eval, 10 * math.pi, 1e-5, 100)"
   ]
  },
  {
   "cell_type": "code",
   "execution_count": 68,
   "metadata": {},
   "outputs": [
    {
     "name": "stdout",
     "output_type": "stream",
     "text": [
      "Found solution after 74025 iterations.\n"
     ]
    },
    {
     "data": {
      "image/png": "[encoded data removed]",
      "text/latex": [
       "$$-1.89811951548995$$"
      ],
      "text/plain": [
       "-1.89811951548995"
      ]
     },
     "execution_count": 68,
     "metadata": {},
     "output_type": "execute_result"
    }
   ],
   "source": [
    "newton(f_eval, df_eval, 10 * math.pi, 1e-5, 100000)"
   ]
  },
  {
   "cell_type": "markdown",
   "metadata": {},
   "source": [
    "## Problem 2"
   ]
  },
  {
   "cell_type": "code",
   "execution_count": 31,
   "metadata": {},
   "outputs": [],
   "source": [
    "def bisection(f, a, b, max_iter):\n",
    "    if f(a) * f(b) >= 0:\n",
    "        print(\"Bisection method fails.\")\n",
    "        return None\n",
    "    for _ in range(max_iter):\n",
    "        c = (a + b) / 2\n",
    "        fc = f(c)\n",
    "        if f(a) * fc < 0:\n",
    "            b = c\n",
    "        elif f(b) * fc < 0:\n",
    "            a = c\n",
    "        elif fc == 0:\n",
    "            print(\"Found exact solution.\")\n",
    "            return c\n",
    "        else:\n",
    "            print(\"Bisection method fails.\")\n",
    "            return None\n",
    "    return (a + b) / 2"
   ]
  },
  {
   "cell_type": "code",
   "execution_count": 69,
   "metadata": {},
   "outputs": [],
   "source": [
    "def secant(f, a, b, max_iter):\n",
    "    if f(a) * f(b) >= 0:\n",
    "        print(\"Secant method fails.\")\n",
    "        return None\n",
    "    for _ in range(max_iter):\n",
    "        c = a - f(a) * (b - a) / (f(b) - f(a))\n",
    "        fc = f(c)\n",
    "        if f(a) * fc < 0:\n",
    "            b = c\n",
    "        elif f(b) * fc < 0:\n",
    "            a = c\n",
    "        elif fc == 0:\n",
    "            print(\"Found exact solution.\")\n",
    "            return c\n",
    "        else:\n",
    "            print(\"Secant method fails.\")\n",
    "            return None\n",
    "    return a - f(a) * (b - a) / (f(b) - f(a))"
   ]
  },
  {
   "cell_type": "code",
   "execution_count": null,
   "metadata": {},
   "outputs": [],
   "source": [
    "def regula(f, p0, p1, max_iter):\n",
    "    q0 = f(p0)\n",
    "    q1 = f(p1)\n",
    "    if q0 * q1 >= 0:\n",
    "        rint(\"Regula method fails.\")\n",
    "        return None\n",
    "    for _ in range(max_iter):\n",
    "        p = p1 - q1 * (p1 - p0) / (q1 - q0)\n",
    "        if p == p1:\n",
    "            return p\n",
    "        q = f(p)\n",
    "        if q * q1 < 0:\n",
    "            p0 = p\n",
    "            q0 = q\n",
    "        else:\n",
    "            p1 = p\n",
    "            q1 = q"
   ]
  }
 ],
 "metadata": {
  "kernelspec": {
   "display_name": "Python 3",
   "language": "python",
   "name": "python3"
  },
  "language_info": {
   "codemirror_mode": {
    "name": "ipython",
    "version": 3
   },
   "file_extension": ".py",
   "mimetype": "text/x-python",
   "name": "python",
   "nbconvert_exporter": "python",
   "pygments_lexer": "ipython3",
   "version": "3.7.3"
  },
  "toc": {
   "base_numbering": 1,
   "nav_menu": {},
   "number_sections": true,
   "sideBar": true,
   "skip_h1_title": false,
   "title_cell": "Table of Contents",
   "title_sidebar": "Contents",
   "toc_cell": false,
   "toc_position": {},
   "toc_section_display": true,
   "toc_window_display": false
  }
 },
 "nbformat": 4,
 "nbformat_minor": 2
}
