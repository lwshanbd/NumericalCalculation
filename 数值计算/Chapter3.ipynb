{
 "cells": [
  {
   "cell_type": "code",
   "execution_count": 19,
   "metadata": {},
   "outputs": [],
   "source": [
    "import numpy as np"
   ]
  },
  {
   "cell_type": "code",
   "execution_count": 49,
   "metadata": {},
   "outputs": [],
   "source": [
    "def pivot_matrix(A):\n",
    "    m = A.shape[0]\n",
    "    for j in range(m):\n",
    "        row = max(range(j, m), key=lambda i: abs(A[i, j]))\n",
    "        if j != row:\n",
    "            A[[j, row]] = A[[row, j]]\n",
    "    return A"
   ]
  },
  {
   "cell_type": "code",
   "execution_count": 53,
   "metadata": {},
   "outputs": [],
   "source": [
    "def lu_decomposition(A):\n",
    "    n = A.shape[0]\n",
    "    L = np.zeros_like(A)\n",
    "    U = np.zeros_like(A)\n",
    "    A = pivot_matrix(A)\n",
    "    for j in range(n):\n",
    "        L[j, j] = 1\n",
    "        for i in range(j + 1):\n",
    "            U[i][j] = A[i][j] - sum(L[i][k] * U[k][j] for k in range(i))\n",
    "        for i in range(j, n):\n",
    "            L[i][j] = (A[i][j] - sum(L[i][k] * U[k][j] for k in range(j))) / U[j][j]\n",
    "    return A, L, U"
   ]
  },
  {
   "cell_type": "code",
   "execution_count": 56,
   "metadata": {},
   "outputs": [
    {
     "name": "stdout",
     "output_type": "stream",
     "text": [
      "[[ 4 -1  1]\n",
      " [ 4 -8  1]\n",
      " [-2  1  5]]\n",
      "[[1 0 0]\n",
      " [1 1 0]\n",
      " [0 0 1]]\n",
      "[[ 4 -1  1]\n",
      " [ 0 -7  0]\n",
      " [ 0  0  5]]\n"
     ]
    },
    {
     "data": {
      "text/plain": [
       "array([[ 4,  0,  0],\n",
       "       [ 0, -7,  0],\n",
       "       [ 0,  0,  5]])"
      ]
     },
     "execution_count": 56,
     "metadata": {},
     "output_type": "execute_result"
    }
   ],
   "source": [
    "A = np.array([[4, -1, 1], [4, -8, 1], [-2, 1, 5]])\n",
    "b = np.array([7, -21, 15])\n",
    "A, L, U = lu_decomposition(A)\n",
    "print(A)\n",
    "print(L)\n",
    "print(U)\n",
    "L * U"
   ]
  },
  {
   "cell_type": "code",
   "execution_count": null,
   "metadata": {},
   "outputs": [],
   "source": []
  },
  {
   "cell_type": "code",
   "execution_count": null,
   "metadata": {},
   "outputs": [],
   "source": []
  }
 ],
 "metadata": {
  "kernelspec": {
   "display_name": "Python 3",
   "language": "python",
   "name": "python3"
  },
  "language_info": {
   "codemirror_mode": {
    "name": "ipython",
    "version": 3
   },
   "file_extension": ".py",
   "mimetype": "text/x-python",
   "name": "python",
   "nbconvert_exporter": "python",
   "pygments_lexer": "ipython3",
   "version": "3.7.0"
  }
 },
 "nbformat": 4,
 "nbformat_minor": 2
}
